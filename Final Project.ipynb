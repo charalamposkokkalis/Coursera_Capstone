{
 "cells": [
  {
   "cell_type": "markdown",
   "metadata": {},
   "source": [
    "### Applied Data Science Capstone - Final Project"
   ]
  },
  {
   "cell_type": "markdown",
   "metadata": {},
   "source": [
    "Import essential libraries:"
   ]
  },
  {
   "cell_type": "code",
   "execution_count": 87,
   "metadata": {},
   "outputs": [],
   "source": [
    "import json\n",
    "import requests\n",
    "import pandas as pd\n",
    "import folium"
   ]
  },
  {
   "cell_type": "markdown",
   "metadata": {},
   "source": [
    "Search for sports facilities in the Area of Thessaloniki"
   ]
  },
  {
   "cell_type": "code",
   "execution_count": 88,
   "metadata": {
    "scrolled": false
   },
   "outputs": [
    {
     "name": "stdout",
     "output_type": "stream",
     "text": [
      "Client secret: KWI1CBWEM5HZJH2DMYIVQ4KUDH15SK4WQB5C0Y3FAK20VV5Q\n"
     ]
    }
   ],
   "source": [
    "secret = input(\"Client secret: \")\n",
    "url = 'https://api.foursquare.com/v2/venues/search'\n",
    "\n",
    "params = dict(\n",
    "client_id='DBZCP5M10O4WR1XMUZNMT3PQMLYLIFAFUXYH0RWSZXW32DD0',\n",
    "client_secret=secret,\n",
    "radius=10000,\n",
    "v='20180323',\n",
    "ll='40.6401, 22.9444', # Thessaloniki\n",
    "query='γήπεδα', #Greek Word for Sports Courts - Gave more results\n",
    "limit=50\n",
    ")\n",
    "resp = requests.get(url=url, params=params)\n",
    "data = json.loads(resp.text)"
   ]
  },
  {
   "cell_type": "markdown",
   "metadata": {},
   "source": [
    "Get dataframe of returned data:"
   ]
  },
  {
   "cell_type": "code",
   "execution_count": 91,
   "metadata": {},
   "outputs": [
    {
     "data": {
      "text/html": [
       "<div>\n",
       "<style scoped>\n",
       "    .dataframe tbody tr th:only-of-type {\n",
       "        vertical-align: middle;\n",
       "    }\n",
       "\n",
       "    .dataframe tbody tr th {\n",
       "        vertical-align: top;\n",
       "    }\n",
       "\n",
       "    .dataframe thead th {\n",
       "        text-align: right;\n",
       "    }\n",
       "</style>\n",
       "<table border=\"1\" class=\"dataframe\">\n",
       "  <thead>\n",
       "    <tr style=\"text-align: right;\">\n",
       "      <th></th>\n",
       "      <th>id</th>\n",
       "      <th>name</th>\n",
       "      <th>contact</th>\n",
       "      <th>location</th>\n",
       "      <th>categories</th>\n",
       "      <th>verified</th>\n",
       "      <th>stats</th>\n",
       "      <th>beenHere</th>\n",
       "      <th>hereNow</th>\n",
       "      <th>referralId</th>\n",
       "      <th>venueChains</th>\n",
       "      <th>hasPerk</th>\n",
       "    </tr>\n",
       "  </thead>\n",
       "  <tbody>\n",
       "    <tr>\n",
       "      <td>0</td>\n",
       "      <td>4f48e083e5e81cf038a2a9ba</td>\n",
       "      <td>Γήπεδα Τέννις ΧΑΝΘ</td>\n",
       "      <td>{}</td>\n",
       "      <td>{'address': 'Πλατεια ΧΑΝΘ', 'lat': 40.62846611...</td>\n",
       "      <td>[{'id': '4e39a956bd410d7aed40cbc3', 'name': 'T...</td>\n",
       "      <td>False</td>\n",
       "      <td>{'tipCount': 0, 'usersCount': 0, 'checkinsCoun...</td>\n",
       "      <td>{'count': 0, 'lastCheckinExpiredAt': 0, 'marke...</td>\n",
       "      <td>{'count': 0, 'summary': 'Nobody here', 'groups...</td>\n",
       "      <td>v-1591829639</td>\n",
       "      <td>[]</td>\n",
       "      <td>False</td>\n",
       "    </tr>\n",
       "    <tr>\n",
       "      <td>1</td>\n",
       "      <td>4f9eb78be4b0ef2f7274d85f</td>\n",
       "      <td>Δημοτικά Γήπεδα Τένις</td>\n",
       "      <td>{}</td>\n",
       "      <td>{'address': 'Νέα Παραλία Θεσσαλονίκης', 'lat':...</td>\n",
       "      <td>[{'id': '4e39a956bd410d7aed40cbc3', 'name': 'T...</td>\n",
       "      <td>False</td>\n",
       "      <td>{'tipCount': 0, 'usersCount': 0, 'checkinsCoun...</td>\n",
       "      <td>{'count': 0, 'lastCheckinExpiredAt': 0, 'marke...</td>\n",
       "      <td>{'count': 0, 'summary': 'Nobody here', 'groups...</td>\n",
       "      <td>v-1591829639</td>\n",
       "      <td>[]</td>\n",
       "      <td>False</td>\n",
       "    </tr>\n",
       "    <tr>\n",
       "      <td>2</td>\n",
       "      <td>4e03562662e189f23d68a6fb</td>\n",
       "      <td>Γαλαξίας Δημοτικά Γήπεδα Τένις</td>\n",
       "      <td>{}</td>\n",
       "      <td>{'lat': 40.602246144095425, 'lng': 22.95951286...</td>\n",
       "      <td>[{'id': '4e39a956bd410d7aed40cbc3', 'name': 'T...</td>\n",
       "      <td>False</td>\n",
       "      <td>{'tipCount': 0, 'usersCount': 0, 'checkinsCoun...</td>\n",
       "      <td>{'count': 0, 'lastCheckinExpiredAt': 0, 'marke...</td>\n",
       "      <td>{'count': 0, 'summary': 'Nobody here', 'groups...</td>\n",
       "      <td>v-1591829639</td>\n",
       "      <td>[]</td>\n",
       "      <td>False</td>\n",
       "    </tr>\n",
       "    <tr>\n",
       "      <td>3</td>\n",
       "      <td>4d7e80913633a093bdbb7f9d</td>\n",
       "      <td>Γηπεδα Σαββιδης</td>\n",
       "      <td>{}</td>\n",
       "      <td>{'lat': 40.69206707742363, 'lng': 22.903922437...</td>\n",
       "      <td>[{'id': '4cce455aebf7b749d5e191f5', 'name': 'S...</td>\n",
       "      <td>False</td>\n",
       "      <td>{'tipCount': 0, 'usersCount': 0, 'checkinsCoun...</td>\n",
       "      <td>{'count': 0, 'lastCheckinExpiredAt': 0, 'marke...</td>\n",
       "      <td>{'count': 0, 'summary': 'Nobody here', 'groups...</td>\n",
       "      <td>v-1591829639</td>\n",
       "      <td>[]</td>\n",
       "      <td>False</td>\n",
       "    </tr>\n",
       "    <tr>\n",
       "      <td>4</td>\n",
       "      <td>5274a5a5498e3d83807b5651</td>\n",
       "      <td>Γήπεδα Σάββας Κωφίδης</td>\n",
       "      <td>{}</td>\n",
       "      <td>{'lat': 40.56386356932276, 'lng': 22.986541699...</td>\n",
       "      <td>[{'id': '4cce455aebf7b749d5e191f5', 'name': 'S...</td>\n",
       "      <td>False</td>\n",
       "      <td>{'tipCount': 0, 'usersCount': 0, 'checkinsCoun...</td>\n",
       "      <td>{'count': 0, 'lastCheckinExpiredAt': 0, 'marke...</td>\n",
       "      <td>{'count': 0, 'summary': 'Nobody here', 'groups...</td>\n",
       "      <td>v-1591829639</td>\n",
       "      <td>[]</td>\n",
       "      <td>False</td>\n",
       "    </tr>\n",
       "  </tbody>\n",
       "</table>\n",
       "</div>"
      ],
      "text/plain": [
       "                         id                            name contact  \\\n",
       "0  4f48e083e5e81cf038a2a9ba              Γήπεδα Τέννις ΧΑΝΘ      {}   \n",
       "1  4f9eb78be4b0ef2f7274d85f           Δημοτικά Γήπεδα Τένις      {}   \n",
       "2  4e03562662e189f23d68a6fb  Γαλαξίας Δημοτικά Γήπεδα Τένις      {}   \n",
       "3  4d7e80913633a093bdbb7f9d                 Γηπεδα Σαββιδης      {}   \n",
       "4  5274a5a5498e3d83807b5651           Γήπεδα Σάββας Κωφίδης      {}   \n",
       "\n",
       "                                            location  \\\n",
       "0  {'address': 'Πλατεια ΧΑΝΘ', 'lat': 40.62846611...   \n",
       "1  {'address': 'Νέα Παραλία Θεσσαλονίκης', 'lat':...   \n",
       "2  {'lat': 40.602246144095425, 'lng': 22.95951286...   \n",
       "3  {'lat': 40.69206707742363, 'lng': 22.903922437...   \n",
       "4  {'lat': 40.56386356932276, 'lng': 22.986541699...   \n",
       "\n",
       "                                          categories  verified  \\\n",
       "0  [{'id': '4e39a956bd410d7aed40cbc3', 'name': 'T...     False   \n",
       "1  [{'id': '4e39a956bd410d7aed40cbc3', 'name': 'T...     False   \n",
       "2  [{'id': '4e39a956bd410d7aed40cbc3', 'name': 'T...     False   \n",
       "3  [{'id': '4cce455aebf7b749d5e191f5', 'name': 'S...     False   \n",
       "4  [{'id': '4cce455aebf7b749d5e191f5', 'name': 'S...     False   \n",
       "\n",
       "                                               stats  \\\n",
       "0  {'tipCount': 0, 'usersCount': 0, 'checkinsCoun...   \n",
       "1  {'tipCount': 0, 'usersCount': 0, 'checkinsCoun...   \n",
       "2  {'tipCount': 0, 'usersCount': 0, 'checkinsCoun...   \n",
       "3  {'tipCount': 0, 'usersCount': 0, 'checkinsCoun...   \n",
       "4  {'tipCount': 0, 'usersCount': 0, 'checkinsCoun...   \n",
       "\n",
       "                                            beenHere  \\\n",
       "0  {'count': 0, 'lastCheckinExpiredAt': 0, 'marke...   \n",
       "1  {'count': 0, 'lastCheckinExpiredAt': 0, 'marke...   \n",
       "2  {'count': 0, 'lastCheckinExpiredAt': 0, 'marke...   \n",
       "3  {'count': 0, 'lastCheckinExpiredAt': 0, 'marke...   \n",
       "4  {'count': 0, 'lastCheckinExpiredAt': 0, 'marke...   \n",
       "\n",
       "                                             hereNow    referralId  \\\n",
       "0  {'count': 0, 'summary': 'Nobody here', 'groups...  v-1591829639   \n",
       "1  {'count': 0, 'summary': 'Nobody here', 'groups...  v-1591829639   \n",
       "2  {'count': 0, 'summary': 'Nobody here', 'groups...  v-1591829639   \n",
       "3  {'count': 0, 'summary': 'Nobody here', 'groups...  v-1591829639   \n",
       "4  {'count': 0, 'summary': 'Nobody here', 'groups...  v-1591829639   \n",
       "\n",
       "  venueChains  hasPerk  \n",
       "0          []    False  \n",
       "1          []    False  \n",
       "2          []    False  \n",
       "3          []    False  \n",
       "4          []    False  "
      ]
     },
     "execution_count": 91,
     "metadata": {},
     "output_type": "execute_result"
    }
   ],
   "source": [
    "res=pd.DataFrame(data['response']['venues'])\n",
    "res.head()"
   ]
  },
  {
   "cell_type": "markdown",
   "metadata": {},
   "source": [
    "Get the map of Thessaloniki and add Markers for all Sports Facilities."
   ]
  },
  {
   "cell_type": "code",
   "execution_count": 99,
   "metadata": {},
   "outputs": [
    {
     "data": {
      "text/html": [
       "<div style=\"width:100%;\"><div style=\"position:relative;width:100%;height:0;padding-bottom:60%;\"><span style=\"color:#565656\">Make this Notebook Trusted to load map: File -> Trust Notebook</span><iframe src=\"about:blank\" style=\"position:absolute;width:100%;height:100%;left:0;top:0;border:none !important;\" data-html=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 onload=\"this.contentDocument.open();this.contentDocument.write(atob(this.getAttribute('data-html')));this.contentDocument.close();\" allowfullscreen webkitallowfullscreen mozallowfullscreen></iframe></div></div>"
      ],
      "text/plain": [
       "<folium.folium.Map at 0x11c98bc50>"
      ]
     },
     "execution_count": 99,
     "metadata": {},
     "output_type": "execute_result"
    }
   ],
   "source": [
    "m = folium.Map(location=[40.6401, 22.9444], zoom_start=12)\n",
    "for location in res[\"location\"]:\n",
    "    folium.Marker([location['lat'], location['lng']]).add_to(m)\n",
    "m"
   ]
  },
  {
   "cell_type": "code",
   "execution_count": null,
   "metadata": {},
   "outputs": [],
   "source": []
  }
 ],
 "metadata": {
  "kernelspec": {
   "display_name": "Python 3",
   "language": "python",
   "name": "python3"
  },
  "language_info": {
   "codemirror_mode": {
    "name": "ipython",
    "version": 3
   },
   "file_extension": ".py",
   "mimetype": "text/x-python",
   "name": "python",
   "nbconvert_exporter": "python",
   "pygments_lexer": "ipython3",
   "version": "3.7.4"
  }
 },
 "nbformat": 4,
 "nbformat_minor": 2
}
